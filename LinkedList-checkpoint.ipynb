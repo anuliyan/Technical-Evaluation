{
 "cells": [
  {
   "cell_type": "code",
   "execution_count": 40,
   "metadata": {},
   "outputs": [],
   "source": [
    "# Task: Create an in memory file system"
   ]
  },
  {
   "cell_type": "code",
   "execution_count": 41,
   "metadata": {},
   "outputs": [],
   "source": [
    "# importing os \n",
    "import os "
   ]
  },
  {
   "cell_type": "code",
   "execution_count": 49,
   "metadata": {},
   "outputs": [
    {
     "name": "stdout",
     "output_type": "stream",
     "text": [
      "A\n",
      "B\n",
      "C\n",
      "D\n"
     ]
    }
   ],
   "source": [
    "class Node:\n",
    "    def __init__(self, dataval=None):     #contains data\n",
    "        self.dataval = dataval      # referes to next node\n",
    "        self.nextval = None         #contains the reference to the next node\n",
    "\n",
    "class SLinkedList:\n",
    "    def __init__(self):\n",
    "        self.headval = None\n",
    "\n",
    "    def listprint(self):\n",
    "        printval = self.headval\n",
    "        while printval is not None:\n",
    "            print (printval.dataval)\n",
    "            printval = printval.nextval\n",
    "\n",
    "list = SLinkedList()\n",
    "list.headval = Node(\"A\")\n",
    "e2 = Node(\"B\")\n",
    "e3 = Node(\"C\")\n",
    "e4 = Node(\"D\")\n",
    "\n",
    "# Linking Nodes\n",
    "list.headval.nextval = e2\n",
    "\n",
    "e2.nextval = e3\n",
    "\n",
    "e3.nextval = e4\n",
    "\n",
    "list.listprint()"
   ]
  },
  {
   "cell_type": "code",
   "execution_count": null,
   "metadata": {},
   "outputs": [],
   "source": [
    "# Attempt 2 wrting the list into a text file"
   ]
  },
  {
   "cell_type": "code",
   "execution_count": 59,
   "metadata": {},
   "outputs": [
    {
     "name": "stdout",
     "output_type": "stream",
     "text": [
      "A\n",
      "B\n",
      "C\n",
      "D\n"
     ]
    }
   ],
   "source": [
    "# Open a file for writing and insert some records\n",
    "file = open('test.txt', 'w')\n",
    "file.write('A\\n')\n",
    "file.write('B\\n')\n",
    "file.write('C\\n')\n",
    "file.write('D\\n')\n",
    "file.close()    # Always close the file\n",
    "# Check the contents of the file created\n",
    "\n",
    "# Open the file created for reading and read line(s) using readline() and readlines()\n",
    "file = open('test.txt', 'r')\n",
    "file.readline()         # Read next line into a string\n",
    "\n",
    "file.readlines()        # Read all (next) lines into a list of strings\n",
    "\n",
    "file.readline()         # Return an empty string after EOF\n",
    "\n",
    "file.close()\n",
    "\n",
    "# Open the file for reading and read the entire file via read() \n",
    "file = open('test.txt', 'r')\n",
    "file.read()              # Read entire file into a string\n",
    "\n",
    "file.close()\n",
    "\n",
    "# Read line-by-line using readline() in a while-loop\n",
    "file = open('test.txt')\n",
    "line = file.readline()   # include newline\n",
    "while line:\n",
    "        line = line.rstrip()  # strip trailing spaces and newline\n",
    "        # process the line\n",
    "        print(line)\n",
    "        line = file.readline()"
   ]
  }
 ],
 "metadata": {
  "kernelspec": {
   "display_name": "Python 3",
   "language": "python",
   "name": "python3"
  },
  "language_info": {
   "codemirror_mode": {
    "name": "ipython",
    "version": 3
   },
   "file_extension": ".py",
   "mimetype": "text/x-python",
   "name": "python",
   "nbconvert_exporter": "python",
   "pygments_lexer": "ipython3",
   "version": "3.8.3"
  }
 },
 "nbformat": 4,
 "nbformat_minor": 4
}
